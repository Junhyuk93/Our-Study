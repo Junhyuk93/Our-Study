{
 "cells": [
  {
   "cell_type": "markdown",
   "metadata": {},
   "source": [
    " ### 1. 콜모고로프의 공리 세가지를 서술하시오.\n",
    " \n",
    " 1) 모든 사건에 대해 확률은 실수이고 0 또는 양수이다.\n",
    " \n",
    " 2) 표본공간(전체집합)이라는 사건(부분집합)에 대한 확률은 1이다.\n",
    " \n",
    " 3) 공통원소가 없는 두 사건의 합집합의 확률은 사건별 확률의 합이다.\n",
    " \n",
    " - 수식으로도 한번 필기해보세요! (본인 노트에)\n"
   ]
  },
  {
   "cell_type": "markdown",
   "metadata": {},
   "source": [
    "### 2. 콜모고로프의 공리를 지키면서, 짝수의 확률이 두배인 dice를 만들어 보세요.\n",
    "##### 연습문제 6.2.4 참고"
   ]
  },
  {
   "cell_type": "code",
   "execution_count": 8,
   "metadata": {},
   "outputs": [
    {
     "data": {
      "text/plain": [
       "{frozenset(),\n",
       " frozenset({'6'}),\n",
       " frozenset({'3'}),\n",
       " frozenset({'5'}),\n",
       " frozenset({'1'}),\n",
       " frozenset({'4'}),\n",
       " frozenset({'2'})}"
      ]
     },
     "execution_count": 8,
     "metadata": {},
     "output_type": "execute_result"
    }
   ],
   "source": [
    "dice0 = frozenset([])\n",
    "dice1 = frozenset(['1'])\n",
    "dice2 = frozenset(['2'])\n",
    "dice3 = frozenset(['3'])\n",
    "dice4 = frozenset(['4'])\n",
    "dice5 = frozenset(['5'])\n",
    "dice6 = frozenset([\"6\"])\n",
    "set([dice0, dice1, dice2, dice3, dice4, dice5, dice6])"
   ]
  },
  {
   "cell_type": "code",
   "execution_count": 9,
   "metadata": {},
   "outputs": [
    {
     "data": {
      "text/plain": [
       "{frozenset(): 0,\n",
       " frozenset({'1'}): 0.1111111111111111,\n",
       " frozenset({'2'}): 0.2222222222222222,\n",
       " frozenset({'3'}): 0.1111111111111111,\n",
       " frozenset({'4'}): 0.2222222222222222,\n",
       " frozenset({'5'}): 0.1111111111111111,\n",
       " frozenset({'6'}): 0.2222222222222222}"
      ]
     },
     "execution_count": 9,
     "metadata": {},
     "output_type": "execute_result"
    }
   ],
   "source": [
    "P = {dice0: 0, dice1: 1/9, dice2: 2/9, dice3: 1/9,\n",
    "     dice4: 2/9, dice5: 1/9, dice6: 2/9}\n",
    "P"
   ]
  },
  {
   "cell_type": "code",
   "execution_count": 17,
   "metadata": {},
   "outputs": [
    {
     "name": "stderr",
     "output_type": "stream",
     "text": [
      "C:\\Users\\82109\\Anaconda3\\lib\\site-packages\\ipykernel_launcher.py:6: UserWarning: In Matplotlib 3.3 individual lines on a stem plot will be added as a LineCollection instead of individual lines. This significantly improves the performance of a stem plot. To remove this warning and switch to the new behaviour, set the \"use_line_collection\" keyword argument to True.\n",
      "  \n"
     ]
    },
    {
     "data": {
      "image/png": "[encoded data removed]",
      "text/plain": [
       "<Figure size 432x288 with 1 Axes>"
      ]
     },
     "metadata": {
      "needs_background": "light"
     },
     "output_type": "display_data"
    }
   ],
   "source": [
    "### 위 다이스를 그래프로도 표현해보세요 (6.4.1 문제 위에 참조)\n",
    "import numpy as np\n",
    "import matplotlib.pyplot as plt\n",
    "x = np.arange(1,7)\n",
    "y = np.array([1/9,2/9,1/9,2/9,1/9,2/9])\n",
    "plt.stem(x, y)\n",
    "plt.title(\"Probability mass function of a crafted die\")\n",
    "plt.xlabel(\"number face\")\n",
    "plt.ylabel(\"probability\")\n",
    "plt.xlim(0, 7)\n",
    "plt.ylim(-0.01, 0.6)\n",
    "plt.xticks(np.arange(6) + 1)\n",
    "plt.show()"
   ]
  },
  {
   "cell_type": "markdown",
   "metadata": {},
   "source": [
    "### 3. 확률의 성질 네가지를 작성해보세요 (수식도 한번 써보세요)\n",
    "##### 1. 공집합의 확률\n",
    "공집합인 사건의 확률은 0이다.\n",
    "##### 2. 여집합의 확률\n",
    "어떤 사건의 여집합인 사건의 확률은 (1-원래 사건의 확률)과 같다\n",
    "##### 3. 포함-배제의 원리\n",
    "두 사건의 합집합의 확률은 각 사건의 확률의 합에서 두 사건의 교집합의 확률을 뺀 것과 같다.\n",
    "##### 4. 전체 확률의 법칙\n",
    "사건 A의 확률은 사건 A와 사건 C_i가 동시에 발생할 사건들의 확률의 합과 같다.\n",
    "\n",
    "##### 수식은 귀찮아서 답지에 없습니다.."
   ]
  },
  {
   "cell_type": "markdown",
   "metadata": {},
   "source": [
    "### 4."
   ]
  },
  {
   "cell_type": "code",
   "execution_count": 21,
   "metadata": {},
   "outputs": [
    {
     "name": "stdout",
     "output_type": "stream",
     "text": [
      "+------+------+----------+\n",
      "| X    | Y    |   P(X,Y) |\n",
      "+======+======+==========+\n",
      "| X(0) | Y(0) |   0.1500 |\n",
      "+------+------+----------+\n",
      "| X(0) | Y(1) |   0.4500 |\n",
      "+------+------+----------+\n",
      "| X(1) | Y(0) |   0.3500 |\n",
      "+------+------+----------+\n",
      "| X(1) | Y(1) |   0.0500 |\n",
      "+------+------+----------+\n"
     ]
    }
   ],
   "source": [
    "from pgmpy.factors.discrete import JointProbabilityDistribution as JPD\n",
    "pxy = JPD(['X', 'Y'], [2, 2], np.array([3, 9, 7, 1]) / 20)\n",
    "print(pxy)"
   ]
  },
  {
   "cell_type": "markdown",
   "metadata": {},
   "source": [
    "#### 위 그래프에서\n",
    "#### X=0 인 경우가 사건  $ A $ (남자인 사건)\n",
    "#### X=1 인 경우가 사건  $A^C$  (여자인 사건)\n",
    "#### Y=0 인 경우가 사건  $B$  (머리카락이 긴 사건)\n",
    "#### Y=1 인 경우가 사건  $B^C$  (머리카락이 짧은 사건)"
   ]
  },
  {
   "cell_type": "markdown",
   "metadata": {},
   "source": [
    "####  범인이 여자라면  범인의 머리카락이 짧을 확률을 구하세요"
   ]
  },
  {
   "cell_type": "code",
   "execution_count": null,
   "metadata": {},
   "outputs": [],
   "source": [
    "1/8"
   ]
  },
  {
   "cell_type": "code",
   "execution_count": 28,
   "metadata": {},
   "outputs": [
    {
     "data": {
      "text/plain": [
       "False"
      ]
     },
     "execution_count": 28,
     "metadata": {},
     "output_type": "execute_result"
    }
   ],
   "source": [
    "# pxy가 독립인지 명령어로 확인해보세요!\n",
    "pxy.check_independence(['X'],['Y'])"
   ]
  },
  {
   "cell_type": "markdown",
   "metadata": {},
   "source": [
    "### 5. 사슬법칙을 써봅시다\n",
    "\n",
    "$ P(X_1, X_2) = P(X_1)P(X_2|X_1)$\n",
    "\n",
    "$ P(X_1, X_2, X_3) = P(X_1)P(X_2|X_1)P(X_3|X_1,X_2)$\n",
    "\n",
    ".\n",
    "\n",
    ".\n",
    "\n",
    ".\n",
    "\n",
    "$ P(X_1 , ... , X_N) = ? $"
   ]
  },
  {
   "cell_type": "code",
   "execution_count": null,
   "metadata": {},
   "outputs": [],
   "source": [
    "# 정답은 연습문제.6.5.4 아래 참조"
   ]
  },
  {
   "cell_type": "markdown",
   "metadata": {},
   "source": [
    "### 6. 베이즈정리\n",
    "\n",
    "## $P(A|B) = \\frac{P(B|A)P(A)}{P(B)} $ \n",
    "\n",
    "#### 아래 각각의 용어와 정의를 써보세요"
   ]
  },
  {
   "cell_type": "markdown",
   "metadata": {},
   "source": [
    "### $ P(A|B) : ? $"
   ]
  },
  {
   "cell_type": "code",
   "execution_count": null,
   "metadata": {},
   "outputs": [],
   "source": [
    "사후확률, 사건 B가 발생한 후 갱신된 사건 A의 확률"
   ]
  },
  {
   "cell_type": "markdown",
   "metadata": {},
   "source": [
    "### $ P(A) : ? $"
   ]
  },
  {
   "cell_type": "code",
   "execution_count": null,
   "metadata": {},
   "outputs": [],
   "source": [
    "사전확률, 사건 B가 발생하기 전에 가지고 있던 사건 A의 확률"
   ]
  },
  {
   "cell_type": "markdown",
   "metadata": {},
   "source": [
    "### $P(B|A) : ? $ "
   ]
  },
  {
   "cell_type": "code",
   "execution_count": null,
   "metadata": {},
   "outputs": [],
   "source": [
    "가능도, 사건 A가 발생한 경우 사건 B의 확률"
   ]
  },
  {
   "cell_type": "code",
   "execution_count": null,
   "metadata": {},
   "outputs": [],
   "source": []
  }
 ],
 "metadata": {
  "kernelspec": {
   "display_name": "Python 3",
   "language": "python",
   "name": "python3"
  },
  "language_info": {
   "codemirror_mode": {
    "name": "ipython",
    "version": 3
   },
   "file_extension": ".py",
   "mimetype": "text/x-python",
   "name": "python",
   "nbconvert_exporter": "python",
   "pygments_lexer": "ipython3",
   "version": "3.7.4"
  }
 },
 "nbformat": 4,
 "nbformat_minor": 2
}
