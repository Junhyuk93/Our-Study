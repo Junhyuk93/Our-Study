{
 "cells": [
  {
   "cell_type": "markdown",
   "metadata": {},
   "source": [
    "### 1.\n",
    "\n",
    "#### 벡터집합 $ x_1 , x_2 , ... , x_N $ 을 이루는 벡터의 선형조합이 영벡터가 되도록 하는 스칼라 계수 $ c_1, c_2, ... , c_N $ 이 존재하면 이 벡터들을 \\_\\_( answer1 )\\_\\_ 라고 한다."
   ]
  },
  {
   "cell_type": "code",
   "execution_count": null,
   "metadata": {},
   "outputs": [],
   "source": []
  },
  {
   "cell_type": "markdown",
   "metadata": {},
   "source": [
    "### 2.\n",
    "\n",
    "#### 벡터가 세가지 (answer1) 인 경우에 대해 서술\n",
    "\n",
    "##### 1)\n",
    "\n",
    "##### 2)\n",
    "\n",
    "##### 3)\n"
   ]
  },
  {
   "cell_type": "code",
   "execution_count": null,
   "metadata": {},
   "outputs": [],
   "source": []
  },
  {
   "cell_type": "markdown",
   "metadata": {},
   "source": [
    "### 3.\n",
    "\n",
    "#### 여러 벡터를 선형조합을 하면 다른 벡터를 만들 수 있다. 벡터 N개가 서로 선형독립이면 이 벡터들을 선형조합하여 만들어지는 모든 벡터의 집합을 벡터공간(vector space)  V 라 하고 이 벡터공간의 차원을  N 이라고 한다. 그리고 그 벡터들을 벡터공간의 \\_\\_()\\_\\_ 라고 한다."
   ]
  },
  {
   "cell_type": "code",
   "execution_count": null,
   "metadata": {},
   "outputs": [],
   "source": []
  },
  {
   "cell_type": "markdown",
   "metadata": {},
   "source": [
    "### 4.\n",
    "\n",
    "#### 랭크와 역행렬\n",
    "\n",
    "#### \\_\\_( **** )\\_\\_ $ <-> $ 역행렬이 존재한다."
   ]
  },
  {
   "cell_type": "code",
   "execution_count": null,
   "metadata": {},
   "outputs": [],
   "source": []
  },
  {
   "cell_type": "markdown",
   "metadata": {},
   "source": [
    "### 5.\n",
    "\n",
    "#### 정방 행렬  A 에 대해 다음 식을 만족하는 영벡터가 아닌 벡터  v , 실수  λ 를 찾을 수 있다고 가정하자.\n",
    "\n",
    "#### $ Av = \\lambda v $\n",
    "\n",
    "#### 위 식을 만족하는 실수 $ \\lambda $ 를 \\_\\_(a)\\_\\_ 벡터 $ v $ 를 \\_\\_(b)\\_\\_ 라고 한다.\n",
    "#### \\_\\_(a)\\_\\_ 과 \\_\\_(b)\\_\\_를 찾는 작업을 \\_\\_(c)\\_\\_ 라고 한다."
   ]
  },
  {
   "cell_type": "markdown",
   "metadata": {},
   "source": []
  },
  {
   "cell_type": "markdown",
   "metadata": {},
   "source": [
    "### 6.\n",
    "\n",
    "####  N 차방정식이 항상  N 개의 복소수 해를 가진다는 사실을 이용하면  N 차원 정방행렬의 고윳값의 개수에 대해 다음 정리가 성립한다.\n",
    "\n",
    "#### [정리] 중복된 고윳값을 각각 별개로 생각하고 복소수인 고윳값도 고려한다면  N 차원 정방행렬의 고윳값은 항상  N 개다."
   ]
  },
  {
   "cell_type": "markdown",
   "metadata": {},
   "source": [
    "#### 어떤 행렬의 고유값이 $ \\lambda_1,\\lambda_2, ... ,\\lambda_N $ 이라고 하면 모든 고유값의 곱은 \\_\\_(c)\\_\\_ 와 같고  모든 고유값의 합은 \\_\\_(d)\\_\\_와 같다."
   ]
  },
  {
   "cell_type": "markdown",
   "metadata": {},
   "source": [
    "$\\prod_{i=1}^N \\lambda_i =  (c) $"
   ]
  },
  {
   "cell_type": "markdown",
   "metadata": {},
   "source": [
    "$ \\sum_{i=1}^N \\lambda_i = (d) $"
   ]
  },
  {
   "cell_type": "code",
   "execution_count": null,
   "metadata": {},
   "outputs": [],
   "source": []
  },
  {
   "cell_type": "markdown",
   "metadata": {},
   "source": [
    "### 7. 대각화 가능\n",
    "\n",
    "\n",
    "#### 행렬이 대각화 가능하려면 고유벡터가 항상 \\_\\_(f)\\_\\_ 여야 한다.\n",
    "#### 행렬을 대각화 할 수 있으면 대각화 가능 행렬(diagonalizble)이라고 한다."
   ]
  },
  {
   "cell_type": "code",
   "execution_count": null,
   "metadata": {},
   "outputs": [],
   "source": []
  },
  {
   "cell_type": "markdown",
   "metadata": {},
   "source": [
    "### 8.\n",
    "\n",
    "#### 임의의 실수 행렬 $ X $ 에 대해 $ X^T X $ 인 정방행렬을 \\_\\_$(e)$\\_\\_ 라고 한다.\n",
    "#### \\_\\_$(e)$\\_\\_ 는(은) 양의 준정부호이고 고유값은 0보다 크거나 같다.\n",
    "\n",
    "#### $ x^T(X^T X) x = (xX)^T (Xx) = u^T u \\ge 0 $"
   ]
  },
  {
   "cell_type": "code",
   "execution_count": null,
   "metadata": {},
   "outputs": [],
   "source": []
  },
  {
   "cell_type": "markdown",
   "metadata": {},
   "source": [
    "### 9.\n",
    "\n",
    "#### PCA -> 주성분 분석\n",
    "\n",
    "####  고차원 데이터 집합이 주어졌을때 원래의 고차원 데이터와 가장 비슷하면서 더 낮은 차원 데이터를 찾아내는 방법 -> 차원축소 라고도 한다.\n",
    "\n",
    "#### 바로 측정되지는 않지만 측정된 데이터의 기재에 숨어서 측정데이터를 결정짓는 데이터를  \\_\\_(g)\\_\\_ 라고 부른다.\n",
    "\n",
    "#### pca 에서는 \\_\\_(g)\\_\\_와 측정데이터가 선형으로 연결되어 있다고 가정한다. 즉 $i$ 번째 표본의 측정데이터 벡터 $ x_i $ 의 각 원소를 선형조합하면 그 뒤에 숨은 $i$ 번째 표본의 \\_\\_\\_\\_(g)\\_\\_ $u_i$의 의 값을 계산할 수 있다고 가정한다.\n",
    "$ u_i = w^T x_i $"
   ]
  },
  {
   "cell_type": "code",
   "execution_count": null,
   "metadata": {},
   "outputs": [],
   "source": []
  },
  {
   "cell_type": "markdown",
   "metadata": {},
   "source": [
    "### 10. 함수\n",
    "\n",
    "### $ 1,2,3 \\implies funtion \\implies 2,4,6 $"
   ]
  },
  {
   "cell_type": "markdown",
   "metadata": {},
   "source": [
    "#### 함수에서 입력 변수가 가질수 있는 값의 집합을 \\_\\_(h)\\_\\_ , 출력 변수가 가질수 있는 값의 집합을  \\_\\_(i)\\_\\_"
   ]
  },
  {
   "cell_type": "code",
   "execution_count": null,
   "metadata": {},
   "outputs": [],
   "source": []
  },
  {
   "cell_type": "markdown",
   "metadata": {},
   "source": [
    "### 11.\n",
    "\n",
    "#### 함수는 복수의 입력변수를 가질 수도 있다. 이러한 함수를 \\_\\_ (j) \\_\\_ 라고 한다.\n",
    "\n",
    "#### 예를 들어 다음 수식은 함수  f 가 2개의 입력변수  x ,  y 를 받아서 변수  z 를 출력하는 다변수함수라는 뜻이다. 2차원 (다변수)함수라고도 한다.\n",
    "\n",
    " $ z=f(x,y)(4.1.35) $\n",
    "#### 두 개의 독립변수를 갖는 함수  f(x,y) 의 예로는 위도  x 와 경도  y 를 입력받아 해발 고도  z 를 출력하는 함수이다.\n",
    "\n",
    "#### 따라서 2차원 함수는 평면상의 지형과 같기 때문에 3차원 \\_\\_ (k1) \\_\\_ , 또는  \\_\\_(k2)\\_\\_ 으로 나타낼 수 있다."
   ]
  },
  {
   "cell_type": "code",
   "execution_count": null,
   "metadata": {},
   "outputs": [],
   "source": []
  },
  {
   "cell_type": "markdown",
   "metadata": {},
   "source": [
    "### 12.\n",
    "\n",
    "#### 예측 모형의 성능\n",
    "\n",
    "$ \\widehat{y} = w_1 x_1 + w_2 x_2 + ... + w_N x_N = w^T x$"
   ]
  },
  {
   "cell_type": "markdown",
   "metadata": {},
   "source": [
    "#### 우리가 결정할 수 있는것은 선형 예측  모형의 가중치 $ w $ 즉 $ w_1, w_2, ... ,w_N $ 의 값이다.\n",
    "#### 모수를 어떤 숫자로 정하느냐에 따라 예측모형의 성능이 달라진다 이 함수를 \\_\\_(l)\\_\\_ 라고 한다. \\_\\_(l)\\_\\_ 는 크면 클수록 좋다."
   ]
  },
  {
   "cell_type": "markdown",
   "metadata": {},
   "source": [
    "#### 우리가 원하는 것은 목적함수가 주어졌을때 이 목적함수의 값을 가장 크게 혹은 적게 할 수 있는 입력값 , 즉 모수를 구하는 것이다 이를 \\_\\_(m)\\_\\_ 이라고 한다."
   ]
  },
  {
   "cell_type": "code",
   "execution_count": null,
   "metadata": {},
   "outputs": [],
   "source": []
  },
  {
   "cell_type": "markdown",
   "metadata": {},
   "source": [
    "### 13.\n",
    "\n",
    "#### scipy.misc 의 패키지의 \\_\\_(n)\\_\\_ 명령을 사용하면 수치적으로 대략적인 기울기를 계산할 수 있다. 인수로는 기울기를 구하고자 하는 함수 $ f $ 기울기를 구할 위치 $ x $ , 기울기를 구하기 위해 이동할 거리 $ dx $ 를 받는다."
   ]
  },
  {
   "cell_type": "markdown",
   "metadata": {},
   "source": [
    "## $ slope \\approx  \\frac{f(x+\\frac{1}{2}dx)-f(x+\\frac{1}{2}dx)}{dx} $"
   ]
  },
  {
   "cell_type": "markdown",
   "metadata": {},
   "source": [
    "#### 이렇게 기울기를 구하는것을 \\_\\_(o)\\_\\_ 라고 한다."
   ]
  },
  {
   "cell_type": "code",
   "execution_count": null,
   "metadata": {},
   "outputs": [],
   "source": []
  },
  {
   "cell_type": "code",
   "execution_count": 13,
   "metadata": {},
   "outputs": [
    {
     "data": {
      "text/latex": [
       "$\\displaystyle \\left( x, \\  dx, \\  e\\right)$"
      ],
      "text/plain": [
       "(x, dx, e)"
      ]
     },
     "execution_count": 13,
     "metadata": {},
     "output_type": "execute_result"
    }
   ],
   "source": [
    "import sympy\n",
    "import numpy as np\n",
    "from sympy.solvers import solve\n",
    "from sympy import Symbol\n",
    "sympy.init_printing(use_latex='mathjax')\n",
    "x , dx , e  = sympy.symbols('x dx e')\n",
    "x ,dx, e"
   ]
  },
  {
   "cell_type": "markdown",
   "metadata": {},
   "source": [
    "### 14.\n",
    "\n",
    "#### 정적분(definite integral) 은 독립변수 $x$ 가 어떤 구간 $[a,b]$ 사이 일때 그 구간에서 함수 $f(x)$의 값과 수평선(x축)이 이루는 면적을 구하는 행위 혹은 그 값이다."
   ]
  },
  {
   "cell_type": "markdown",
   "metadata": {},
   "source": [
    "$ \\textstyle \\int_{-2}^{5} e^x + 3x^3 + 6x^2 + 3 dx$ "
   ]
  },
  {
   "cell_type": "markdown",
   "metadata": {},
   "source": [
    "#### subs() , evalf() 명령어를 이용해  위의 식을 정적분 해보세용!"
   ]
  },
  {
   "cell_type": "code",
   "execution_count": null,
   "metadata": {},
   "outputs": [],
   "source": []
  },
  {
   "cell_type": "markdown",
   "metadata": {},
   "source": []
  }
 ],
 "metadata": {
  "kernelspec": {
   "display_name": "Python 3",
   "language": "python",
   "name": "python3"
  },
  "language_info": {
   "codemirror_mode": {
    "name": "ipython",
    "version": 3
   },
   "file_extension": ".py",
   "mimetype": "text/x-python",
   "name": "python",
   "nbconvert_exporter": "python",
   "pygments_lexer": "ipython3",
   "version": "3.7.4"
  }
 },
 "nbformat": 4,
 "nbformat_minor": 2
}
